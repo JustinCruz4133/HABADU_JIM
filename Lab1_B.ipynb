{
  "nbformat": 4,
  "nbformat_minor": 0,
  "metadata": {
    "colab": {
      "provenance": [],
      "include_colab_link": true
    },
    "kernelspec": {
      "name": "python3",
      "display_name": "Python 3"
    },
    "language_info": {
      "name": "python"
    }
  },
  "cells": [
    {
      "cell_type": "markdown",
      "metadata": {
        "id": "view-in-github",
        "colab_type": "text"
      },
      "source": [
        "<a href=\"https://colab.research.google.com/github/JustinCruz4133/HABADU_JIM/blob/main/Lab1_B.ipynb\" target=\"_parent\"><img src=\"https://colab.research.google.com/assets/colab-badge.svg\" alt=\"Open In Colab\"/></a>"
      ]
    },
    {
      "cell_type": "code",
      "source": [
        "class Polygons:\n",
        "  def __init__(self, name, num_sides, area):\n",
        "    self.name = name\n",
        "    self.num_sides = num_sides\n",
        "    self.area = area\n",
        "\n",
        "  def get_name(self):\n",
        "    print(\"Given that side lengths is 1\")\n",
        "    return self.name\n",
        "\n",
        "  def get_num_sides(self):\n",
        "    return self.num_sides\n",
        "    print(\"\\n\")\n",
        "\n",
        "  def get_area(self):\n",
        "    return self.area\n",
        "\n",
        "shape1 = Polygons(\"Triangle\", 3, 0.43301)\n",
        "print(f\"Name: {shape1.get_name()}\")\n",
        "print(f\"Number of sides: {shape1.get_num_sides()}\")\n",
        "print(f\"Area: {shape1.get_area()}\\n\")\n",
        "\n",
        "shape2 = Polygons(\"Quadrilateral\", 4, 1)\n",
        "print(f\"Name: {shape2.get_name()}\")\n",
        "print(f\"Number of sides: {shape2.get_num_sides()}\")\n",
        "print(f\"Area: {shape2.get_area()}\\n\")\n",
        "\n",
        "shape3 = Polygons(\"Pentagon\", 5, 1.72048)\n",
        "print(f\"Name: {shape3.get_name()}\")\n",
        "print(f\"Number of sides: {shape3.get_num_sides()}\")\n",
        "print(f\"Area: {shape3.get_area()}\")"
      ],
      "metadata": {
        "colab": {
          "base_uri": "https://localhost:8080/"
        },
        "id": "4t3gyM1z4MwA",
        "outputId": "45acc21b-09a0-4b7a-9e38-8b62479b5f26"
      },
      "execution_count": 18,
      "outputs": [
        {
          "output_type": "stream",
          "name": "stdout",
          "text": [
            "Given that side lengths is 1\n",
            "Name: Triangle\n",
            "Number of sides: 3\n",
            "Area: 0.43301\n",
            "\n",
            "Given that side lengths is 1\n",
            "Name: Quadrilateral\n",
            "Number of sides: 4\n",
            "Area: 1\n",
            "\n",
            "Given that side lengths is 1\n",
            "Name: Pentagon\n",
            "Number of sides: 5\n",
            "Area: 1.72048\n"
          ]
        }
      ]
    }
  ]
}