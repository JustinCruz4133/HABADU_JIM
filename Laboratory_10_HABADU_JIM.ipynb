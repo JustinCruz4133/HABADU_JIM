{
  "nbformat": 4,
  "nbformat_minor": 0,
  "metadata": {
    "colab": {
      "provenance": [],
      "authorship_tag": "ABX9TyMRKDzUluCW8ErAONKAMvJP",
      "include_colab_link": true
    },
    "kernelspec": {
      "name": "python3",
      "display_name": "Python 3"
    },
    "language_info": {
      "name": "python"
    }
  },
  "cells": [
    {
      "cell_type": "markdown",
      "metadata": {
        "id": "view-in-github",
        "colab_type": "text"
      },
      "source": [
        "<a href=\"https://colab.research.google.com/github/JustinCruz4133/HABADU_JIM/blob/main/Laboratory_10_HABADU_JIM.ipynb\" target=\"_parent\"><img src=\"https://colab.research.google.com/assets/colab-badge.svg\" alt=\"Open In Colab\"/></a>"
      ]
    },
    {
      "cell_type": "code",
      "execution_count": 1,
      "metadata": {
        "colab": {
          "base_uri": "https://localhost:8080/"
        },
        "id": "IBA5i8Acs6Eo",
        "outputId": "57f8c408-75ce-49d3-b12e-9b922704b1f1"
      },
      "outputs": [
        {
          "output_type": "stream",
          "name": "stdout",
          "text": [
            "Pre-order traversal:\n",
            "Visiting node 1 (Pre-order: 1)\n",
            "Visiting node 2 (Pre-order: 2)\n",
            "Visiting node 4 (Pre-order: 3)\n",
            "Visiting node 5 (Pre-order: 4)\n",
            "Visiting node 3 (Pre-order: 5)\n",
            "\n",
            "In-order traversal:\n",
            "Visiting node 4 (In-order: 1)\n",
            "Visiting node 2 (In-order: 2)\n",
            "Visiting node 5 (In-order: 3)\n",
            "Visiting node 1 (In-order: 4)\n",
            "Visiting node 3 (In-order: 5)\n",
            "\n",
            "Post-order traversal:\n",
            "Visiting node 4 (Post-order: 1)\n",
            "Visiting node 5 (Post-order: 2)\n",
            "Visiting node 2 (Post-order: 3)\n",
            "Visiting node 3 (Post-order: 4)\n",
            "Visiting node 1 (Post-order: 5)\n",
            "\n"
          ]
        }
      ],
      "source": [
        "class TreeNode:\n",
        "    def __init__(self, data):\n",
        "        self.data = data\n",
        "        self.left = None\n",
        "        self.right = None\n",
        "        self.pre_order_number = None\n",
        "        self.in_order_number = None\n",
        "        self.post_order_number = None\n",
        "\n",
        "class BinaryTree(TreeNode):\n",
        "    def __init__(self, root):\n",
        "        super().__init__(root)\n",
        "\n",
        "    def _preOrderNumber(self, start, counter):\n",
        "        if start:\n",
        "            start.pre_order_number = counter\n",
        "            print(f\"Visiting node {start.data} (Pre-order: {start.pre_order_number})\")\n",
        "            counter += 1\n",
        "            counter = self._preOrderNumber(start.left, counter)\n",
        "            counter = self._preOrderNumber(start.right, counter)\n",
        "        return counter\n",
        "\n",
        "    def _inOrderNumber(self, start, counter):\n",
        "        if start:\n",
        "            counter = self._inOrderNumber(start.left, counter)\n",
        "            start.in_order_number = counter\n",
        "            print(f\"Visiting node {start.data} (In-order: {start.in_order_number})\")\n",
        "            counter += 1\n",
        "            counter = self._inOrderNumber(start.right, counter)\n",
        "        return counter\n",
        "\n",
        "    def _postOrderNumber(self, start, counter):\n",
        "        if start:\n",
        "            counter = self._postOrderNumber(start.left, counter)\n",
        "            counter = self._postOrderNumber(start.right, counter)\n",
        "            start.post_order_number = counter\n",
        "            print(f\"Visiting node {start.data} (Post-order: {start.post_order_number})\")\n",
        "            counter += 1\n",
        "        return counter\n",
        "\n",
        "    def preOrderNumber(self):\n",
        "        print(\"Pre-order traversal:\")\n",
        "        self._preOrderNumber(self, 1)\n",
        "        print()\n",
        "\n",
        "    def inOrderNumber(self):\n",
        "        print(\"In-order traversal:\")\n",
        "        self._inOrderNumber(self, 1)\n",
        "        print()\n",
        "\n",
        "    def postOrderNumber(self):\n",
        "        print(\"Post-order traversal:\")\n",
        "        self._postOrderNumber(self, 1)\n",
        "        print()\n",
        "\n",
        "# Example Usage:\n",
        "tree = BinaryTree(1)\n",
        "tree.left = BinaryTree(2)\n",
        "tree.right = BinaryTree(3)\n",
        "tree.left.left = BinaryTree(4)\n",
        "tree.left.right = BinaryTree(5)\n",
        "\n",
        "tree.preOrderNumber()\n",
        "tree.inOrderNumber()\n",
        "tree.postOrderNumber()\n"
      ]
    }
  ]
}