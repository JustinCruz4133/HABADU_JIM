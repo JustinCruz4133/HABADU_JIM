{
  "nbformat": 4,
  "nbformat_minor": 0,
  "metadata": {
    "colab": {
      "provenance": [],
      "authorship_tag": "ABX9TyNYPU1i4/atYEO6GMBIw9aR",
      "include_colab_link": true
    },
    "kernelspec": {
      "name": "python3",
      "display_name": "Python 3"
    },
    "language_info": {
      "name": "python"
    }
  },
  "cells": [
    {
      "cell_type": "markdown",
      "metadata": {
        "id": "view-in-github",
        "colab_type": "text"
      },
      "source": [
        "<a href=\"https://colab.research.google.com/github/JustinCruz4133/HABADU_JIM/blob/main/Lab4_B.ipynb\" target=\"_parent\"><img src=\"https://colab.research.google.com/assets/colab-badge.svg\" alt=\"Open In Colab\"/></a>"
      ]
    },
    {
      "cell_type": "code",
      "execution_count": 5,
      "metadata": {
        "colab": {
          "base_uri": "https://localhost:8080/"
        },
        "id": "1JqGHMOcdeVE",
        "outputId": "21374568-5fed-4416-b202-30165267753c"
      },
      "outputs": [
        {
          "output_type": "stream",
          "name": "stdout",
          "text": [
            "Please input text: Hello World!\n",
            "Please input how many times the code will be encrypted (integer): 4\n",
            "Encrypted Text: Lipps Asvph!\n"
          ]
        }
      ],
      "source": [
        "def c_encrypt(text, move):\n",
        "  enc = []\n",
        "  for char in text:\n",
        "    if char.isalpha(): #checks if text provided is part of the alphabet\n",
        "      upperl = char.isupper() #checks if text is capitalized\n",
        "      order = ord(char) + move #Shifts text based on the value of \"move\"\n",
        "      if upperl:\n",
        "        if order > ord('Z'):\n",
        "          order -= 26\n",
        "      else:\n",
        "        if order > ord('z'):\n",
        "          order -= 26\n",
        "      enc.append(chr(order))\n",
        "    else:\n",
        "      enc.append(char)\n",
        "  return ''.join(enc) #returns elements as text and not as list\n",
        "\n",
        "\n",
        "a = input(\"Please input text: \")\n",
        "b = int(input(\"Please input how many times the code will be encrypted (integer): \"))\n",
        "encrypt = c_encrypt(a, b)\n",
        "print(\"Encrypted Text:\", encrypt)"
      ]
    }
  ]
}