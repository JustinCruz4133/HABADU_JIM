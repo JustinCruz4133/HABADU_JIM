{
  "nbformat": 4,
  "nbformat_minor": 0,
  "metadata": {
    "colab": {
      "provenance": [],
      "authorship_tag": "ABX9TyNCQHjgMhhN/FpyYUFK4h7b",
      "include_colab_link": true
    },
    "kernelspec": {
      "name": "python3",
      "display_name": "Python 3"
    },
    "language_info": {
      "name": "python"
    }
  },
  "cells": [
    {
      "cell_type": "markdown",
      "metadata": {
        "id": "view-in-github",
        "colab_type": "text"
      },
      "source": [
        "<a href=\"https://colab.research.google.com/github/JustinCruz4133/HABADU_JIM/blob/main/Lab4_B.ipynb\" target=\"_parent\"><img src=\"https://colab.research.google.com/assets/colab-badge.svg\" alt=\"Open In Colab\"/></a>"
      ]
    },
    {
      "cell_type": "code",
      "execution_count": 2,
      "metadata": {
        "colab": {
          "base_uri": "https://localhost:8080/"
        },
        "id": "1JqGHMOcdeVE",
        "outputId": "407202d1-eb20-446b-d4c2-2d624764259b"
      },
      "outputs": [
        {
          "output_type": "stream",
          "name": "stdout",
          "text": [
            "Please input text: Hello World!\n",
            "Encrypted Text: Jgnnq Yqtnf!\n"
          ]
        }
      ],
      "source": [
        "def c_encrypt(text, move):\n",
        "  enc = []\n",
        "  for char in text:\n",
        "    if char.isalpha(): #checks if text provided is part of the alphabet\n",
        "      upperl = char.isupper() #checks if text is capitalized\n",
        "      order = ord(char) + move #Shifts text based on the value of \"move\"\n",
        "      if upperl:\n",
        "        if order > ord('Z'):\n",
        "          order -= 26\n",
        "      else:\n",
        "        if order > ord('z'):\n",
        "          order -= 26\n",
        "      enc.append(chr(order))\n",
        "    else:\n",
        "      enc.append(char)\n",
        "  return ''.join(enc) #returns elements as text and not as list\n",
        "\n",
        "\n",
        "a = input(\"Please input text: \")\n",
        "\n",
        "encrypt = c_encrypt(a, 2)\n",
        "print(\"Encrypted Text:\", encrypt)"
      ]
    }
  ]
}