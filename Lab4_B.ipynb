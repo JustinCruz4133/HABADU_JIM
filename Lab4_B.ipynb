{
  "nbformat": 4,
  "nbformat_minor": 0,
  "metadata": {
    "colab": {
      "provenance": [],
      "authorship_tag": "ABX9TyPSrUciq3nuNL/THEdhtwB0",
      "include_colab_link": true
    },
    "kernelspec": {
      "name": "python3",
      "display_name": "Python 3"
    },
    "language_info": {
      "name": "python"
    }
  },
  "cells": [
    {
      "cell_type": "markdown",
      "metadata": {
        "id": "view-in-github",
        "colab_type": "text"
      },
      "source": [
        "<a href=\"https://colab.research.google.com/github/JustinCruz4133/HABADU_JIM/blob/main/Lab4_B.ipynb\" target=\"_parent\"><img src=\"https://colab.research.google.com/assets/colab-badge.svg\" alt=\"Open In Colab\"/></a>"
      ]
    },
    {
      "cell_type": "code",
      "execution_count": 11,
      "metadata": {
        "colab": {
          "base_uri": "https://localhost:8080/"
        },
        "id": "1JqGHMOcdeVE",
        "outputId": "0fce40d2-2e71-4242-bed7-e2f396fa611f"
      },
      "outputs": [
        {
          "output_type": "stream",
          "name": "stdout",
          "text": [
            "Please input text: Hello world!\n",
            "Encrypted Text: Jgnnq yqtnf!\n"
          ]
        }
      ],
      "source": [
        "def c_encrypt(text, move):\n",
        "  enc = \"\"\n",
        "  for char in text:\n",
        "    if char.isalpha(): #checks if text provided is part of the alphabet\n",
        "      upperl = char.isupper() #checks if text is capitalized\n",
        "      order = ord(char) + move #Shifts text based on the value of \"move\"\n",
        "      if upperl:\n",
        "        if order > ord('Z'):\n",
        "          order -= 26\n",
        "      else:\n",
        "        if order > ord('z'):\n",
        "          order -= 26\n",
        "      enc += chr(order)\n",
        "    else:\n",
        "      enc += char\n",
        "  return enc\n",
        "\n",
        "\n",
        "a = input(\"Please input text: \")\n",
        "\n",
        "encrypt = c_encrypt(a, 2)\n",
        "print(\"Encrypted Text:\", encrypt)"
      ]
    }
  ]
}