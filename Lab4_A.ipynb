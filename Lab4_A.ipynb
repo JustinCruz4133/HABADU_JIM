{
  "nbformat": 4,
  "nbformat_minor": 0,
  "metadata": {
    "colab": {
      "provenance": [],
      "authorship_tag": "ABX9TyNp6NxdWtwcCx31raF6fTa4",
      "include_colab_link": true
    },
    "kernelspec": {
      "name": "python3",
      "display_name": "Python 3"
    },
    "language_info": {
      "name": "python"
    }
  },
  "cells": [
    {
      "cell_type": "markdown",
      "metadata": {
        "id": "view-in-github",
        "colab_type": "text"
      },
      "source": [
        "<a href=\"https://colab.research.google.com/github/JustinCruz4133/HABADU_JIM/blob/main/Lab4_A.ipynb\" target=\"_parent\"><img src=\"https://colab.research.google.com/assets/colab-badge.svg\" alt=\"Open In Colab\"/></a>"
      ]
    },
    {
      "cell_type": "code",
      "execution_count": 25,
      "metadata": {
        "colab": {
          "base_uri": "https://localhost:8080/"
        },
        "id": "SanB8tavYya9",
        "outputId": "0316cdaf-13ff-4ab3-cc9e-9e0365a2cebd"
      },
      "outputs": [
        {
          "output_type": "stream",
          "name": "stdout",
          "text": [
            "The repeating integer is: 2\n"
          ]
        }
      ],
      "source": [
        "A = [1, 3, 4, 2, 2, 5]\n",
        "temp = []\n",
        "for i in range(len(A)):\n",
        "    if A[i] not in temp:\n",
        "        temp.append(A[i])\n",
        "    else:\n",
        "      print(\"The repeating integer is:\", A[i])"
      ]
    }
  ]
}