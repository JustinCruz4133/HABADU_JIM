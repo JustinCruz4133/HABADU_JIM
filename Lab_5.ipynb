{
  "nbformat": 4,
  "nbformat_minor": 0,
  "metadata": {
    "colab": {
      "provenance": [],
      "authorship_tag": "ABX9TyOo/zDtrz1566O+stmZvIVk",
      "include_colab_link": true
    },
    "kernelspec": {
      "name": "python3",
      "display_name": "Python 3"
    },
    "language_info": {
      "name": "python"
    }
  },
  "cells": [
    {
      "cell_type": "markdown",
      "metadata": {
        "id": "view-in-github",
        "colab_type": "text"
      },
      "source": [
        "<a href=\"https://colab.research.google.com/github/JustinCruz4133/HABADU_JIM/blob/main/Lab_5.ipynb\" target=\"_parent\"><img src=\"https://colab.research.google.com/assets/colab-badge.svg\" alt=\"Open In Colab\"/></a>"
      ]
    },
    {
      "cell_type": "code",
      "execution_count": 55,
      "metadata": {
        "colab": {
          "base_uri": "https://localhost:8080/"
        },
        "id": "32gZR2zEVUEn",
        "outputId": "0eb0b533-cac7-40f1-a762-03b824804cab"
      },
      "outputs": [
        {
          "output_type": "stream",
          "name": "stdout",
          "text": [
            "element @ index 0: 48\n",
            "element @ index 1: 61\n",
            "element @ index 2: 61\n",
            "element @ index 3: 11\n",
            "element @ index 4: 49\n",
            "element @ index 5: 20\n",
            "element @ index 6: 28\n",
            "element @ index 7: 43\n",
            "element @ index 8: 59\n",
            "element @ index 9: 50\n",
            "\n",
            "Sum of the individual elements in the array: 430\n"
          ]
        }
      ],
      "source": [
        "#Write a Python program to create an array of 10 integers and display the array items.Access individual elements through indexes and compute for the sum.\n",
        "import random as rand\n",
        "\n",
        "numbers = []\n",
        "\n",
        "for i in range(10):\n",
        "  x = rand.randint(0,69)\n",
        "  numbers.append(x)\n",
        "  print(\"element\"+ \" @ index \"+ str(i) + \": \" + str(x))\n",
        "\n",
        "sum = 0\n",
        "for i in range(len(numbers)):\n",
        "  sum += numbers[i]\n",
        "print(\"\\nSum of the individual elements in the array:\",sum)"
      ]
    },
    {
      "cell_type": "code",
      "source": [
        "#Write a Python program to append a new item to the end of the array. Original array:numbers = [1, 2, 3, 4, 5, 6, 7, 8, 9, 10]\n",
        "numbers = [1, 2, 3, 4, 5, 6, 7, 8, 9, 10]\n",
        "print(\"Original Array:\", numbers)\n",
        "numbers.append(69)\n",
        "print(\"New Array:\", numbers)"
      ],
      "metadata": {
        "colab": {
          "base_uri": "https://localhost:8080/"
        },
        "id": "Xum_X7LBZp4d",
        "outputId": "840c03ce-fdc3-4b4e-d292-cfe4a443ba43"
      },
      "execution_count": 36,
      "outputs": [
        {
          "output_type": "stream",
          "name": "stdout",
          "text": [
            "Original Array: [1, 2, 3, 4, 5, 6, 7, 8, 9, 10]\n",
            "New Array: [1, 2, 3, 4, 5, 6, 7, 8, 9, 10, 69]\n"
          ]
        }
      ]
    },
    {
      "cell_type": "code",
      "source": [
        "#Write a Python program to insert a new item before the second element in an existing array. Original array: numbers = [1, 2, 3, 4, 5, 6, 7, 8, 9, 10]\n",
        "numbers = [1, 2, 3, 4, 5, 6, 7, 8, 9, 10]\n",
        "print(\"Original Array:\", numbers)\n",
        "numbers.insert(1,69)\n",
        "print(\"New Array:\", numbers)"
      ],
      "metadata": {
        "colab": {
          "base_uri": "https://localhost:8080/"
        },
        "id": "NQ6RFgtxYXX1",
        "outputId": "86b8045b-d8c0-4f54-9f0e-df3d072f6481"
      },
      "execution_count": 37,
      "outputs": [
        {
          "output_type": "stream",
          "name": "stdout",
          "text": [
            "Original Array: [1, 2, 3, 4, 5, 6, 7, 8, 9, 10]\n",
            "New Array: [1, 69, 2, 3, 4, 5, 6, 7, 8, 9, 10]\n"
          ]
        }
      ]
    },
    {
      "cell_type": "code",
      "source": [
        "#Write a Python program to reverse the order of the items in the array. Original array:numbers = [5, 4, 3, 2, 1]\n",
        "numbers = [5, 4, 3, 2, 1]\n",
        "print(\"Original Array:\", numbers)\n",
        "numbers.reverse()\n",
        "print(\"New Array:\", numbers)\n",
        "print(numbers)"
      ],
      "metadata": {
        "colab": {
          "base_uri": "https://localhost:8080/"
        },
        "id": "2U_BwxI4dEpp",
        "outputId": "e635dfdd-79b9-4f81-e4c2-08b07435dc9b"
      },
      "execution_count": 39,
      "outputs": [
        {
          "output_type": "stream",
          "name": "stdout",
          "text": [
            "Original Array: [5, 4, 3, 2, 1]\n",
            "New Array: [1, 2, 3, 4, 5]\n",
            "[1, 2, 3, 4, 5]\n"
          ]
        }
      ]
    },
    {
      "cell_type": "code",
      "source": [
        "#Write a Python program to get the length of the array. Original array: numbers = [5, 4, 3, 2, 1]\n",
        "numbers = [5, 4, 3, 2, 1]\n",
        "print(\"Array:\",numbers)\n",
        "print(\"The length of the array is:\",len(numbers))"
      ],
      "metadata": {
        "colab": {
          "base_uri": "https://localhost:8080/"
        },
        "id": "048B7deQYzXG",
        "outputId": "69384606-1b63-4ccd-85cb-874c1d02a380"
      },
      "execution_count": null,
      "outputs": [
        {
          "output_type": "stream",
          "name": "stdout",
          "text": [
            "Array: [5, 4, 3, 2, 1]\n",
            "The length of the array is: 5\n"
          ]
        }
      ]
    }
  ]
}