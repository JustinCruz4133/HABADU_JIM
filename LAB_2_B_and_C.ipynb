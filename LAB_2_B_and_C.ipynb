{
  "nbformat": 4,
  "nbformat_minor": 0,
  "metadata": {
    "colab": {
      "provenance": [],
      "authorship_tag": "ABX9TyNNlg8ph7VRo+f7+a0AmlbN",
      "include_colab_link": true
    },
    "kernelspec": {
      "name": "python3",
      "display_name": "Python 3"
    },
    "language_info": {
      "name": "python"
    }
  },
  "cells": [
    {
      "cell_type": "markdown",
      "metadata": {
        "id": "view-in-github",
        "colab_type": "text"
      },
      "source": [
        "<a href=\"https://colab.research.google.com/github/JustinCruz4133/HABADU_JIM/blob/main/LAB_2_B_and_C.ipynb\" target=\"_parent\"><img src=\"https://colab.research.google.com/assets/colab-badge.svg\" alt=\"Open In Colab\"/></a>"
      ]
    },
    {
      "cell_type": "markdown",
      "source": [
        "B"
      ],
      "metadata": {
        "id": "whSVQnApUXUT"
      }
    },
    {
      "cell_type": "code",
      "source": [
        "x = float(input())\n",
        "if x < 0:\n",
        "  result = -x\n",
        "  print(result)\n",
        "elif x >= 0:\n",
        "  result = x\n",
        "  print(result)"
      ],
      "metadata": {
        "colab": {
          "base_uri": "https://localhost:8080/"
        },
        "id": "Q3tMuC1JUTsV",
        "outputId": "cf4fad7a-9acb-493d-9317-10e843942bd5"
      },
      "execution_count": 9,
      "outputs": [
        {
          "output_type": "stream",
          "name": "stdout",
          "text": [
            "3\n",
            "3.0\n"
          ]
        }
      ]
    },
    {
      "cell_type": "markdown",
      "source": [
        "C"
      ],
      "metadata": {
        "id": "mbdVHdkGUYv1"
      }
    },
    {
      "cell_type": "code",
      "execution_count": 8,
      "metadata": {
        "colab": {
          "base_uri": "https://localhost:8080/"
        },
        "id": "5dE07gmaT-_P",
        "outputId": "27f83e18-6805-4859-ab1c-e35f86628bdc"
      },
      "outputs": [
        {
          "output_type": "stream",
          "name": "stdout",
          "text": [
            "Minimum Number: 5\n",
            "Maximum Number: 65432\n"
          ]
        }
      ],
      "source": [
        "def find_min_max1(sequence, i, min, max):\n",
        "    if i < 0:\n",
        "        return min, max\n",
        "    else:\n",
        "        current_num = sequence[i]\n",
        "\n",
        "        if current_num < min:\n",
        "            min = current_num\n",
        "        if current_num > max:\n",
        "            max = current_num\n",
        "\n",
        "        return find_min_max1(sequence, i - 1, min, max)\n",
        "\n",
        "def find_min_max2(sequence):\n",
        "    if len(sequence) == 0:\n",
        "        return None, None\n",
        "\n",
        "    min, max = sequence[0], sequence[0]\n",
        "    i = len(sequence) - 1\n",
        "\n",
        "    min, max = find_min_max1(sequence, i, min, max)\n",
        "    return min, max\n",
        "\n",
        "sequence = [6966, 626, 21, 223, 500, 34, 65432, 654, 6, 5425, 3532, 5, 234, 523, 5, 25, 235, 324, 5, 5243]\n",
        "min, max = find_min_max2(sequence)\n",
        "\n",
        "print(\"Minimum Number:\", min)\n",
        "print(\"Maximum Number:\", max)"
      ]
    }
  ]
}