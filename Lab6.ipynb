{
  "nbformat": 4,
  "nbformat_minor": 0,
  "metadata": {
    "colab": {
      "provenance": [],
      "authorship_tag": "ABX9TyMjmL6EM2lR0Y3jGM5TvBgz",
      "include_colab_link": true
    },
    "kernelspec": {
      "name": "python3",
      "display_name": "Python 3"
    },
    "language_info": {
      "name": "python"
    }
  },
  "cells": [
    {
      "cell_type": "markdown",
      "metadata": {
        "id": "view-in-github",
        "colab_type": "text"
      },
      "source": [
        "<a href=\"https://colab.research.google.com/github/JustinCruz4133/HABADU_JIM/blob/main/Lab6.ipynb\" target=\"_parent\"><img src=\"https://colab.research.google.com/assets/colab-badge.svg\" alt=\"Open In Colab\"/></a>"
      ]
    },
    {
      "cell_type": "markdown",
      "source": [
        "A. Move-to-Front Heuristic"
      ],
      "metadata": {
        "id": "Zod2WUDcTzWu"
      }
    },
    {
      "cell_type": "code",
      "execution_count": null,
      "metadata": {
        "colab": {
          "base_uri": "https://localhost:8080/"
        },
        "id": "hCMxEWurwcvA",
        "outputId": "aa19114d-95c2-44a5-df4a-15f20bf42419"
      },
      "outputs": [
        {
          "output_type": "stream",
          "name": "stdout",
          "text": [
            "Length of list: 6\n",
            "a->>b->>c->>d->>e->>f->>END OF LIST\n",
            "Length of list: 6\n",
            "e->>d->>b->>f->>c->>a->>END OF LIST\n"
          ]
        }
      ],
      "source": [
        "class Node:\n",
        "    def __init__(self, data = None):\n",
        "        self.data = data\n",
        "        self.next = None\n",
        "\n",
        "class linkedlist:\n",
        "    def __init__(self):\n",
        "        self.head = Node()\n",
        "\n",
        "    def append(self, data):\n",
        "        newnode = Node(data)\n",
        "        cur = self.head\n",
        "        while cur.next:\n",
        "            cur = cur.next\n",
        "        cur.next = newnode\n",
        "\n",
        "    def arrange(self, data):\n",
        "        new_node = Node(data)\n",
        "        cur = self.head\n",
        "        while cur.next:\n",
        "            if cur.next.data == data:\n",
        "                # If the data is found, move the node to the front\n",
        "                temp = cur.next\n",
        "                cur.next = cur.next.next\n",
        "                temp.next = self.head.next\n",
        "                self.head.next = temp\n",
        "                return\n",
        "            cur = cur.next\n",
        "        cur.next = new_node\n",
        "\n",
        "\n",
        "    def length(self):\n",
        "        cur = self.head\n",
        "        total = 0\n",
        "        while cur.next:\n",
        "            total += 1\n",
        "            cur = cur.next\n",
        "        return total\n",
        "\n",
        "    def display(self):\n",
        "        cur = self.head.next\n",
        "        while cur:\n",
        "            print(cur.data, end=\"->>\")\n",
        "            cur = cur.next\n",
        "        print(\"END OF LIST\")\n",
        "\n",
        "a = linkedlist()\n",
        "givenlist = [\"a\",\"b\",\"c\",\"d\",\"e\",\"f\"]\n",
        "for i in givenlist:\n",
        "    a.append(i)\n",
        "print(\"Length of list:\", a.length())\n",
        "a.display()\n",
        "\n",
        "arrangement = ['a','b','c','d','e', 'f' ,'a','c', 'f' ,'b','d','e']\n",
        "\n",
        "for i in arrangement:\n",
        "    a.arrange(i)\n",
        "print(\"Length of list:\", a.length())\n",
        "a.display()\n"
      ]
    },
    {
      "cell_type": "markdown",
      "source": [
        "B. Doubly Linked List"
      ],
      "metadata": {
        "id": "wwS1lLB6T0v9"
      }
    },
    {
      "cell_type": "code",
      "source": [
        "class Node:\n",
        "    def __init__(self, data):\n",
        "        self.data = data\n",
        "        self.prev = None\n",
        "        self.next = None\n",
        "\n",
        "class DList:\n",
        "    def __init__(self):\n",
        "        self.head = None\n",
        "\n",
        "    def append(self, data):\n",
        "        new_node = Node(data)\n",
        "        if not self.head:\n",
        "            self.head = new_node\n",
        "        else:\n",
        "            current = self.head\n",
        "            while current.next:\n",
        "                current = current.next\n",
        "            current.next = new_node\n",
        "            new_node.prev = current\n",
        "\n",
        "    def count(self):\n",
        "        count = 0\n",
        "        current = self.head\n",
        "        while current:\n",
        "            count += 1\n",
        "            current = current.next\n",
        "        return count\n",
        "\n",
        "    def insert(self, data):\n",
        "        new_node = Node(data)\n",
        "        if self.head:\n",
        "            self.head.prev = new_node\n",
        "            new_node.next = self.head\n",
        "        self.head = new_node\n",
        "\n",
        "    def display(self):\n",
        "        current = self.head\n",
        "        while current.next:\n",
        "            current = current.next\n",
        "\n",
        "        while current:\n",
        "            print(current.data, end=' ')\n",
        "            current = current.prev\n",
        "\n",
        "    def reverse_list(self):\n",
        "        current = self.head\n",
        "        while current:\n",
        "            current.prev, current.next = current.next, current.prev\n",
        "            current = current.prev\n",
        "\n",
        "#Display Values\n",
        "x = DList()\n",
        "\n",
        "x.append(5)\n",
        "x.append(4)\n",
        "x.append(3)\n",
        "x.append(2)\n",
        "x.append(1)\n",
        "\n",
        "print(\"Original Doubly Linked List:\")\n",
        "x.display()\n",
        "\n",
        "print(\"\\nNumber of items in the list:\", x.count())\n",
        "\n",
        "print(\"\\nInsert an item:\")\n",
        "x.insert(input())\n",
        "\n",
        "print(\"\\nNew List:\")\n",
        "x.display()\n",
        "\n",
        "x.reverse_list()\n",
        "\n",
        "print(\"\\nReversed List:\")\n",
        "x.display()"
      ],
      "metadata": {
        "id": "3-Q3hFIB20yW",
        "outputId": "97cc66d9-8e85-4d1b-8a19-19908ed42321",
        "colab": {
          "base_uri": "https://localhost:8080/"
        }
      },
      "execution_count": null,
      "outputs": [
        {
          "output_type": "stream",
          "name": "stdout",
          "text": [
            "Original Doubly Linked List:\n",
            "1 2 3 4 5 \n",
            "Number of items in the list: 5\n",
            "\n",
            "Insert an item:\n",
            "6\n",
            "\n",
            "New List:\n",
            "1 2 3 4 5 6 \n",
            "Reversed List:\n",
            "6 5 4 3 2 1 "
          ]
        }
      ]
    }
  ]
}