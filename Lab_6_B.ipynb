{
  "nbformat": 4,
  "nbformat_minor": 0,
  "metadata": {
    "colab": {
      "provenance": [],
      "authorship_tag": "ABX9TyNBTPNPX+pg/z8KismRZxsS",
      "include_colab_link": true
    },
    "kernelspec": {
      "name": "python3",
      "display_name": "Python 3"
    },
    "language_info": {
      "name": "python"
    }
  },
  "cells": [
    {
      "cell_type": "markdown",
      "metadata": {
        "id": "view-in-github",
        "colab_type": "text"
      },
      "source": [
        "<a href=\"https://colab.research.google.com/github/JustinCruz4133/HABADU_JIM/blob/main/Lab_6_B.ipynb\" target=\"_parent\"><img src=\"https://colab.research.google.com/assets/colab-badge.svg\" alt=\"Open In Colab\"/></a>"
      ]
    },
    {
      "cell_type": "code",
      "execution_count": 7,
      "metadata": {
        "colab": {
          "base_uri": "https://localhost:8080/"
        },
        "id": "jtZdip0jDnSF",
        "outputId": "b833e526-4f2c-4f77-8d5c-079cf49adf20"
      },
      "outputs": [
        {
          "output_type": "stream",
          "name": "stdout",
          "text": [
            "Original Doubly Linked List:\n",
            "1 2 3 4 5 \n",
            "Number of items in the list: 5\n",
            "\n",
            "Insert an item:\n",
            "6\n",
            "\n",
            "New List:\n",
            "1 2 3 4 5 6 \n",
            "Reversed List:\n",
            "6 5 4 3 2 1 "
          ]
        }
      ],
      "source": [
        "class Node:\n",
        "    def __init__(self, data):\n",
        "        self.data = data\n",
        "        self.prev = None\n",
        "        self.next = None\n",
        "\n",
        "class DList:\n",
        "    def __init__(self):\n",
        "        self.head = None\n",
        "\n",
        "    def append(self, data):\n",
        "        new_node = Node(data)\n",
        "        if not self.head:\n",
        "            self.head = new_node\n",
        "        else:\n",
        "            current = self.head\n",
        "            while current.next:\n",
        "                current = current.next\n",
        "            current.next = new_node\n",
        "            new_node.prev = current\n",
        "\n",
        "    def count(self):\n",
        "        count = 0\n",
        "        current = self.head\n",
        "        while current:\n",
        "            count += 1\n",
        "            current = current.next\n",
        "        return count\n",
        "\n",
        "    def insert(self, data):\n",
        "        new_node = Node(data)\n",
        "        if self.head:\n",
        "            self.head.prev = new_node\n",
        "            new_node.next = self.head\n",
        "        self.head = new_node\n",
        "\n",
        "    def display(self):\n",
        "        current = self.head\n",
        "        while current.next:\n",
        "            current = current.next\n",
        "\n",
        "        while current:\n",
        "            print(current.data, end=' ')\n",
        "            current = current.prev\n",
        "\n",
        "    def reverse_list(self):\n",
        "        current = self.head\n",
        "        while current:\n",
        "            current.prev, current.next = current.next, current.prev\n",
        "            current = current.prev\n",
        "\n",
        "#Display Values\n",
        "x = DList()\n",
        "\n",
        "x.append(5)\n",
        "x.append(4)\n",
        "x.append(3)\n",
        "x.append(2)\n",
        "x.append(1)\n",
        "\n",
        "print(\"Original List:\")\n",
        "x.display()\n",
        "\n",
        "print(\"\\nNumber of items in the list:\", x.count())\n",
        "\n",
        "print(\"\\nInsert an item:\")\n",
        "x.insert(input())\n",
        "\n",
        "print(\"\\nNew List:\")\n",
        "x.display()\n",
        "\n",
        "x.reverse_list()\n",
        "\n",
        "print(\"\\nReversed List:\")\n",
        "x.display()"
      ]
    }
  ]
}