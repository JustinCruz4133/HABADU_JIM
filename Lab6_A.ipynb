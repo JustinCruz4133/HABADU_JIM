{
  "nbformat": 4,
  "nbformat_minor": 0,
  "metadata": {
    "colab": {
      "provenance": [],
      "authorship_tag": "ABX9TyM0DLkV5iKxrgBVvNLmbM7e",
      "include_colab_link": true
    },
    "kernelspec": {
      "name": "python3",
      "display_name": "Python 3"
    },
    "language_info": {
      "name": "python"
    }
  },
  "cells": [
    {
      "cell_type": "markdown",
      "metadata": {
        "id": "view-in-github",
        "colab_type": "text"
      },
      "source": [
        "<a href=\"https://colab.research.google.com/github/JustinCruz4133/HABADU_JIM/blob/main/Lab6_A.ipynb\" target=\"_parent\"><img src=\"https://colab.research.google.com/assets/colab-badge.svg\" alt=\"Open In Colab\"/></a>"
      ]
    },
    {
      "cell_type": "code",
      "execution_count": 1,
      "metadata": {
        "colab": {
          "base_uri": "https://localhost:8080/"
        },
        "id": "hCMxEWurwcvA",
        "outputId": "aa19114d-95c2-44a5-df4a-15f20bf42419"
      },
      "outputs": [
        {
          "output_type": "stream",
          "name": "stdout",
          "text": [
            "Length of list: 6\n",
            "a->>b->>c->>d->>e->>f->>END OF LIST\n",
            "Length of list: 6\n",
            "e->>d->>b->>f->>c->>a->>END OF LIST\n"
          ]
        }
      ],
      "source": [
        "class Node:\n",
        "    def __init__(self, data = None):\n",
        "        self.data = data\n",
        "        self.next = None\n",
        "\n",
        "class linkedlist:\n",
        "    def __init__(self):\n",
        "        self.head = Node()\n",
        "\n",
        "    def append(self, data):\n",
        "        newnode = Node(data)\n",
        "        cur = self.head\n",
        "        while cur.next:\n",
        "            cur = cur.next\n",
        "        cur.next = newnode\n",
        "\n",
        "    def arrange(self, data):\n",
        "        new_node = Node(data)\n",
        "        cur = self.head\n",
        "        while cur.next:\n",
        "            if cur.next.data == data:\n",
        "                # If the data is found, move the node to the front\n",
        "                temp = cur.next\n",
        "                cur.next = cur.next.next\n",
        "                temp.next = self.head.next\n",
        "                self.head.next = temp\n",
        "                return\n",
        "            cur = cur.next\n",
        "        cur.next = new_node\n",
        "\n",
        "\n",
        "    def length(self):\n",
        "        cur = self.head\n",
        "        total = 0\n",
        "        while cur.next:\n",
        "            total += 1\n",
        "            cur = cur.next\n",
        "        return total\n",
        "\n",
        "    def display(self):\n",
        "        cur = self.head.next\n",
        "        while cur:\n",
        "            print(cur.data, end=\"->>\")\n",
        "            cur = cur.next\n",
        "        print(\"END OF LIST\")\n",
        "\n",
        "a = linkedlist()\n",
        "givenlist = [\"a\",\"b\",\"c\",\"d\",\"e\",\"f\"]\n",
        "for i in givenlist:\n",
        "    a.append(i)\n",
        "print(\"Length of list:\", a.length())\n",
        "a.display()\n",
        "\n",
        "arrangement = ['a','b','c','d','e', 'f' ,'a','c', 'f' ,'b','d','e']\n",
        "\n",
        "for i in arrangement:\n",
        "    a.arrange(i)\n",
        "print(\"Length of list:\", a.length())\n",
        "a.display()\n"
      ]
    }
  ]
}