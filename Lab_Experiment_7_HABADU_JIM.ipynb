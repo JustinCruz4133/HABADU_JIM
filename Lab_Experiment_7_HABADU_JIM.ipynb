{
  "nbformat": 4,
  "nbformat_minor": 0,
  "metadata": {
    "colab": {
      "provenance": [],
      "authorship_tag": "ABX9TyNKdGdGw42AszUG2nFOcmbN",
      "include_colab_link": true
    },
    "kernelspec": {
      "name": "python3",
      "display_name": "Python 3"
    },
    "language_info": {
      "name": "python"
    }
  },
  "cells": [
    {
      "cell_type": "markdown",
      "metadata": {
        "id": "view-in-github",
        "colab_type": "text"
      },
      "source": [
        "<a href=\"https://colab.research.google.com/github/JustinCruz4133/HABADU_JIM/blob/main/Lab_Experiment_7_HABADU_JIM.ipynb\" target=\"_parent\"><img src=\"https://colab.research.google.com/assets/colab-badge.svg\" alt=\"Open In Colab\"/></a>"
      ]
    },
    {
      "cell_type": "code",
      "execution_count": 5,
      "metadata": {
        "colab": {
          "base_uri": "https://localhost:8080/"
        },
        "id": "xAqbqlLmx6E2",
        "outputId": "91b08052-7c42-4a21-cc20-8eeed33e0d50"
      },
      "outputs": [
        {
          "output_type": "stream",
          "name": "stdout",
          "text": [
            "2-->3-->5-->7-->11-->13-->17-->19-->End of list\n"
          ]
        }
      ],
      "source": [
        "class Node:\n",
        "  def __init__(self, data = None):\n",
        "    self.data = data\n",
        "    self.next = None\n",
        "\n",
        "class Llist:\n",
        "  def __init__(self):\n",
        "    self.head = Node()\n",
        "\n",
        "  def append(self, data):\n",
        "    newnode = Node(data)\n",
        "    cur = self.head\n",
        "    while cur.next:\n",
        "      cur = cur.next\n",
        "    cur.next = newnode\n",
        "\n",
        "  def display(self):\n",
        "    cur = self.head.next\n",
        "    while cur:\n",
        "      print(cur.data, end=\"-->\")\n",
        "      cur = cur.next\n",
        "    print(\"End of list\")\n",
        "\n",
        "primenumbers = Llist()\n",
        "\n",
        "for n in range ( 2, 20 + 1 ): #Iterates from 2 to 20\n",
        "  for i in range ( 2, n ):\n",
        "    if ( n % i == 0 ):\n",
        "      break\n",
        "  else:\n",
        "    primenumbers.append(n)\n",
        "\n",
        "primenumbers.display()"
      ]
    }
  ]
}