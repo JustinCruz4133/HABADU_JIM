{
  "nbformat": 4,
  "nbformat_minor": 0,
  "metadata": {
    "colab": {
      "provenance": [],
      "authorship_tag": "ABX9TyOnkSWUV6V2YXSzg5Jft4sB",
      "include_colab_link": true
    },
    "kernelspec": {
      "name": "python3",
      "display_name": "Python 3"
    },
    "language_info": {
      "name": "python"
    }
  },
  "cells": [
    {
      "cell_type": "markdown",
      "metadata": {
        "id": "view-in-github",
        "colab_type": "text"
      },
      "source": [
        "<a href=\"https://colab.research.google.com/github/JustinCruz4133/HABADU_JIM/blob/main/Lab3.ipynb\" target=\"_parent\"><img src=\"https://colab.research.google.com/assets/colab-badge.svg\" alt=\"Open In Colab\"/></a>"
      ]
    },
    {
      "cell_type": "code",
      "execution_count": 4,
      "metadata": {
        "colab": {
          "base_uri": "https://localhost:8080/"
        },
        "id": "GW7QNxOPITol",
        "outputId": "7a0f75d7-adb6-4450-aa21-79e5dc967113"
      },
      "outputs": [
        {
          "output_type": "stream",
          "name": "stdout",
          "text": [
            "Test Scores: [26, 49, 98, 87, 62, 75]\n",
            "\n",
            "Even Numbers are: [26, 98, 62]\n",
            "Sum of the Even Numbers: 186\n"
          ]
        }
      ],
      "source": [
        "testscores = [26, 49, 98, 87, 62, 75]\n",
        "evenN = []\n",
        "total = 0\n",
        "\n",
        "for i in testscores:\n",
        "  if i % 2 == 0:\n",
        "    total += i\n",
        "    evenN.append(i)\n",
        "\n",
        "print(\"Test Scores:\", testscores)\n",
        "print(\"\\nEven Numbers are:\", evenN)\n",
        "print(\"Sum of the Even Numbers:\", total)"
      ]
    }
  ]
}